{
  "nbformat": 4,
  "nbformat_minor": 0,
  "metadata": {
    "colab": {
      "name": "fashio_MLP_mnist___.ipynb",
      "provenance": [],
      "collapsed_sections": []
    },
    "kernelspec": {
      "name": "python3",
      "display_name": "Python 3"
    },
    "language_info": {
      "name": "python"
    },
    "accelerator": "GPU"
  },
  "cells": [
    {
      "cell_type": "code",
      "execution_count": 1,
      "metadata": {
        "colab": {
          "base_uri": "https://localhost:8080/"
        },
        "id": "uQK0FyuHDA73",
        "outputId": "1312bfab-a266-4e72-ccb0-818ceb0fe5d5"
      },
      "outputs": [
        {
          "output_type": "stream",
          "name": "stdout",
          "text": [
            "2.8.0\n"
          ]
        }
      ],
      "source": [
        "import numpy as np\n",
        "from tensorflow import keras\n",
        "print(keras.__version__)"
      ]
    },
    {
      "cell_type": "code",
      "source": [
        "import tensorflow as tf\n",
        "mnist = tf.keras.datasets.fashion_mnist\n",
        "(x_train,y_train) , (x_test , y_test) = mnist.load_data()\n",
        "print(x_train.shape)\n",
        "print(y_train.shape)"
      ],
      "metadata": {
        "colab": {
          "base_uri": "https://localhost:8080/"
        },
        "id": "FnGT3PZRGSOh",
        "outputId": "9f8f8f40-d9a3-4384-ccef-bf1a842cbc68"
      },
      "execution_count": 2,
      "outputs": [
        {
          "output_type": "stream",
          "name": "stdout",
          "text": [
            "Downloading data from https://storage.googleapis.com/tensorflow/tf-keras-datasets/train-labels-idx1-ubyte.gz\n",
            "32768/29515 [=================================] - 0s 0us/step\n",
            "40960/29515 [=========================================] - 0s 0us/step\n",
            "Downloading data from https://storage.googleapis.com/tensorflow/tf-keras-datasets/train-images-idx3-ubyte.gz\n",
            "26427392/26421880 [==============================] - 0s 0us/step\n",
            "26435584/26421880 [==============================] - 0s 0us/step\n",
            "Downloading data from https://storage.googleapis.com/tensorflow/tf-keras-datasets/t10k-labels-idx1-ubyte.gz\n",
            "16384/5148 [===============================================================================================] - 0s 0us/step\n",
            "Downloading data from https://storage.googleapis.com/tensorflow/tf-keras-datasets/t10k-images-idx3-ubyte.gz\n",
            "4423680/4422102 [==============================] - 0s 0us/step\n",
            "4431872/4422102 [==============================] - 0s 0us/step\n",
            "(60000, 28, 28)\n",
            "(60000,)\n"
          ]
        }
      ]
    },
    {
      "cell_type": "code",
      "source": [
        "np.unique(y_train)"
      ],
      "metadata": {
        "colab": {
          "base_uri": "https://localhost:8080/"
        },
        "id": "M4zttjpcHC6x",
        "outputId": "0bdc1905-120a-42a7-9f02-679d16cffb03"
      },
      "execution_count": 3,
      "outputs": [
        {
          "output_type": "execute_result",
          "data": {
            "text/plain": [
              "array([0, 1, 2, 3, 4, 5, 6, 7, 8, 9], dtype=uint8)"
            ]
          },
          "metadata": {},
          "execution_count": 3
        }
      ]
    },
    {
      "cell_type": "code",
      "source": [
        "x_train_final = x_train.reshape((-1,784)) \n",
        "x_train_final"
      ],
      "metadata": {
        "id": "hdlWGOX8HNRS",
        "colab": {
          "base_uri": "https://localhost:8080/"
        },
        "outputId": "72079934-b408-4b3d-8f17-0f99ac71878a"
      },
      "execution_count": 4,
      "outputs": [
        {
          "output_type": "execute_result",
          "data": {
            "text/plain": [
              "array([[0, 0, 0, ..., 0, 0, 0],\n",
              "       [0, 0, 0, ..., 0, 0, 0],\n",
              "       [0, 0, 0, ..., 0, 0, 0],\n",
              "       ...,\n",
              "       [0, 0, 0, ..., 0, 0, 0],\n",
              "       [0, 0, 0, ..., 0, 0, 0],\n",
              "       [0, 0, 0, ..., 0, 0, 0]], dtype=uint8)"
            ]
          },
          "metadata": {},
          "execution_count": 4
        }
      ]
    },
    {
      "cell_type": "code",
      "source": [
        "x_test_final = x_test.reshape((-1,784))"
      ],
      "metadata": {
        "id": "bDCxkn6XI7sO"
      },
      "execution_count": 5,
      "outputs": []
    },
    {
      "cell_type": "code",
      "source": [
        "# normlize the data\n",
        "x_train_final = x_train_final/255\n",
        "x_test_final  = x_test_final/255"
      ],
      "metadata": {
        "id": "ZZL_PYJuIgLW"
      },
      "execution_count": 6,
      "outputs": []
    },
    {
      "cell_type": "code",
      "source": [
        "model = keras.Sequential()\n",
        "model.add(keras.layers.Dense(512,input_shape=(784,), activation=\"relu\"))\n",
        "model.add(keras.layers.Dense(256,activation=\"relu\"))\n",
        "model.add(keras.layers.Dense(10, activation=\"softmax\"))"
      ],
      "metadata": {
        "id": "PDDgPFNBJX7Q"
      },
      "execution_count": 7,
      "outputs": []
    },
    {
      "cell_type": "code",
      "source": [
        "model.summary()"
      ],
      "metadata": {
        "colab": {
          "base_uri": "https://localhost:8080/"
        },
        "id": "CRDtGOy3x9Ou",
        "outputId": "2334e9cf-a27d-4985-e625-a40b17fa50a2"
      },
      "execution_count": 8,
      "outputs": [
        {
          "output_type": "stream",
          "name": "stdout",
          "text": [
            "Model: \"sequential\"\n",
            "_________________________________________________________________\n",
            " Layer (type)                Output Shape              Param #   \n",
            "=================================================================\n",
            " dense (Dense)               (None, 512)               401920    \n",
            "                                                                 \n",
            " dense_1 (Dense)             (None, 256)               131328    \n",
            "                                                                 \n",
            " dense_2 (Dense)             (None, 10)                2570      \n",
            "                                                                 \n",
            "=================================================================\n",
            "Total params: 535,818\n",
            "Trainable params: 535,818\n",
            "Non-trainable params: 0\n",
            "_________________________________________________________________\n"
          ]
        }
      ]
    },
    {
      "cell_type": "code",
      "source": [
        "model.compile(optimizer='sgd',loss= 'sparse_categorical_crossentropy',metrics=['accuracy'])\n"
      ],
      "metadata": {
        "id": "kMnkVbaaQXSY"
      },
      "execution_count": 9,
      "outputs": []
    },
    {
      "cell_type": "code",
      "source": [
        "#results = model.fit(x=x_train, y=y_train,shuffle=True,epochs=10)\n",
        "results=model.fit(\n",
        "  x=x_train_final,\n",
        "  y=y_train,\n",
        "  shuffle=True,\n",
        "  epochs=30,\n",
        "  batch_size= 32,\n",
        "  validation_data=(x_test_final,y_test)\n",
        ")\n"
      ],
      "metadata": {
        "colab": {
          "base_uri": "https://localhost:8080/"
        },
        "id": "QXpH4gvoRC-B",
        "outputId": "685b8cc0-67d6-4c02-d2a2-f80d0ebb1dac"
      },
      "execution_count": 10,
      "outputs": [
        {
          "output_type": "stream",
          "name": "stdout",
          "text": [
            "Epoch 1/30\n",
            "1875/1875 [==============================] - 12s 6ms/step - loss: 0.6820 - accuracy: 0.7792 - val_loss: 0.5343 - val_accuracy: 0.8128\n",
            "Epoch 2/30\n",
            "1875/1875 [==============================] - 7s 4ms/step - loss: 0.4731 - accuracy: 0.8359 - val_loss: 0.4875 - val_accuracy: 0.8284\n",
            "Epoch 3/30\n",
            "1875/1875 [==============================] - 7s 4ms/step - loss: 0.4284 - accuracy: 0.8504 - val_loss: 0.4446 - val_accuracy: 0.8445\n",
            "Epoch 4/30\n",
            "1875/1875 [==============================] - 7s 4ms/step - loss: 0.4018 - accuracy: 0.8590 - val_loss: 0.4203 - val_accuracy: 0.8520\n",
            "Epoch 5/30\n",
            "1875/1875 [==============================] - 7s 4ms/step - loss: 0.3818 - accuracy: 0.8661 - val_loss: 0.4013 - val_accuracy: 0.8581\n",
            "Epoch 6/30\n",
            "1875/1875 [==============================] - 7s 4ms/step - loss: 0.3656 - accuracy: 0.8717 - val_loss: 0.3908 - val_accuracy: 0.8613\n",
            "Epoch 7/30\n",
            "1875/1875 [==============================] - 7s 4ms/step - loss: 0.3512 - accuracy: 0.8753 - val_loss: 0.3859 - val_accuracy: 0.8654\n",
            "Epoch 8/30\n",
            "1875/1875 [==============================] - 7s 4ms/step - loss: 0.3407 - accuracy: 0.8781 - val_loss: 0.3877 - val_accuracy: 0.8655\n",
            "Epoch 9/30\n",
            "1875/1875 [==============================] - 7s 4ms/step - loss: 0.3292 - accuracy: 0.8830 - val_loss: 0.3746 - val_accuracy: 0.8661\n",
            "Epoch 10/30\n",
            "1875/1875 [==============================] - 7s 4ms/step - loss: 0.3198 - accuracy: 0.8861 - val_loss: 0.3920 - val_accuracy: 0.8576\n",
            "Epoch 11/30\n",
            "1875/1875 [==============================] - 7s 4ms/step - loss: 0.3113 - accuracy: 0.8884 - val_loss: 0.3565 - val_accuracy: 0.8741\n",
            "Epoch 12/30\n",
            "1875/1875 [==============================] - 8s 4ms/step - loss: 0.3027 - accuracy: 0.8920 - val_loss: 0.3518 - val_accuracy: 0.8742\n",
            "Epoch 13/30\n",
            "1875/1875 [==============================] - 7s 4ms/step - loss: 0.2958 - accuracy: 0.8938 - val_loss: 0.3508 - val_accuracy: 0.8742\n",
            "Epoch 14/30\n",
            "1875/1875 [==============================] - 7s 4ms/step - loss: 0.2882 - accuracy: 0.8960 - val_loss: 0.3724 - val_accuracy: 0.8688\n",
            "Epoch 15/30\n",
            "1875/1875 [==============================] - 7s 4ms/step - loss: 0.2822 - accuracy: 0.8993 - val_loss: 0.3437 - val_accuracy: 0.8784\n",
            "Epoch 16/30\n",
            "1875/1875 [==============================] - 7s 4ms/step - loss: 0.2749 - accuracy: 0.9005 - val_loss: 0.3396 - val_accuracy: 0.8782\n",
            "Epoch 17/30\n",
            "1875/1875 [==============================] - 7s 4ms/step - loss: 0.2700 - accuracy: 0.9019 - val_loss: 0.3319 - val_accuracy: 0.8815\n",
            "Epoch 18/30\n",
            "1875/1875 [==============================] - 7s 4ms/step - loss: 0.2640 - accuracy: 0.9049 - val_loss: 0.3312 - val_accuracy: 0.8830\n",
            "Epoch 19/30\n",
            "1875/1875 [==============================] - 7s 4ms/step - loss: 0.2590 - accuracy: 0.9065 - val_loss: 0.3441 - val_accuracy: 0.8805\n",
            "Epoch 20/30\n",
            "1875/1875 [==============================] - 7s 4ms/step - loss: 0.2535 - accuracy: 0.9085 - val_loss: 0.3325 - val_accuracy: 0.8816\n",
            "Epoch 21/30\n",
            "1875/1875 [==============================] - 7s 4ms/step - loss: 0.2487 - accuracy: 0.9099 - val_loss: 0.3277 - val_accuracy: 0.8840\n",
            "Epoch 22/30\n",
            "1875/1875 [==============================] - 7s 4ms/step - loss: 0.2440 - accuracy: 0.9109 - val_loss: 0.3277 - val_accuracy: 0.8848\n",
            "Epoch 23/30\n",
            "1875/1875 [==============================] - 7s 4ms/step - loss: 0.2394 - accuracy: 0.9137 - val_loss: 0.3241 - val_accuracy: 0.8850\n",
            "Epoch 24/30\n",
            "1875/1875 [==============================] - 7s 4ms/step - loss: 0.2349 - accuracy: 0.9152 - val_loss: 0.3236 - val_accuracy: 0.8855\n",
            "Epoch 25/30\n",
            "1875/1875 [==============================] - 7s 4ms/step - loss: 0.2300 - accuracy: 0.9173 - val_loss: 0.3229 - val_accuracy: 0.8857\n",
            "Epoch 26/30\n",
            "1875/1875 [==============================] - 7s 4ms/step - loss: 0.2267 - accuracy: 0.9174 - val_loss: 0.3209 - val_accuracy: 0.8860\n",
            "Epoch 27/30\n",
            "1875/1875 [==============================] - 7s 4ms/step - loss: 0.2213 - accuracy: 0.9203 - val_loss: 0.3274 - val_accuracy: 0.8818\n",
            "Epoch 28/30\n",
            "1875/1875 [==============================] - 7s 4ms/step - loss: 0.2171 - accuracy: 0.9218 - val_loss: 0.3396 - val_accuracy: 0.8795\n",
            "Epoch 29/30\n",
            "1875/1875 [==============================] - 7s 4ms/step - loss: 0.2135 - accuracy: 0.9230 - val_loss: 0.3235 - val_accuracy: 0.8872\n",
            "Epoch 30/30\n",
            "1875/1875 [==============================] - 7s 4ms/step - loss: 0.2091 - accuracy: 0.9262 - val_loss: 0.3264 - val_accuracy: 0.8844\n"
          ]
        }
      ]
    },
    {
      "cell_type": "code",
      "source": [
        ""
      ],
      "metadata": {
        "id": "PGzdCOpeW328"
      },
      "execution_count": 10,
      "outputs": []
    },
    {
      "cell_type": "code",
      "source": [
        "import matplotlib.pyplot as plt\n",
        "plt.plot(results.history['loss'])\n",
        "plt.plot(results.history['val_loss'])\n",
        "plt.legend(['Training','Vaildation'])\n",
        "plt.title('Training and Validation Losses')\n",
        "plt.xlabel('epoches')\n",
        "plt.ylabel('losses')"
      ],
      "metadata": {
        "colab": {
          "base_uri": "https://localhost:8080/",
          "height": 312
        },
        "id": "-sewV12IRw5h",
        "outputId": "18b634e5-3989-4d27-ab6b-5f61ebe45516"
      },
      "execution_count": 11,
      "outputs": [
        {
          "output_type": "execute_result",
          "data": {
            "text/plain": [
              "Text(0, 0.5, 'losses')"
            ]
          },
          "metadata": {},
          "execution_count": 11
        },
        {
          "output_type": "display_data",
          "data": {
            "text/plain": [
              "<Figure size 432x288 with 1 Axes>"
            ],
            "image/png": "[encoded data removed]"
          },
          "metadata": {
            "needs_background": "light"
          }
        }
      ]
    },
    {
      "cell_type": "code",
      "source": [
        "import matplotlib.pyplot as plt\n",
        "plt.plot(results.history['accuracy'])\n",
        "plt.plot(results.history['val_accuracy'])\n",
        "plt.legend(['Training','Vaildation'])\n",
        "plt.title('Training and Validation Accuracy')\n",
        "plt.xlabel('epoches')\n",
        "plt.ylabel('accuracy')"
      ],
      "metadata": {
        "colab": {
          "base_uri": "https://localhost:8080/",
          "height": 312
        },
        "id": "5-9JlsMzUtjw",
        "outputId": "7c615e4a-1841-4651-e4f4-6da34e16d698"
      },
      "execution_count": 12,
      "outputs": [
        {
          "output_type": "execute_result",
          "data": {
            "text/plain": [
              "Text(0, 0.5, 'accuracy')"
            ]
          },
          "metadata": {},
          "execution_count": 12
        },
        {
          "output_type": "display_data",
          "data": {
            "text/plain": [
              "<Figure size 432x288 with 1 Axes>"
            ],
            "image/png": "[encoded data removed]"
          },
          "metadata": {
            "needs_background": "light"
          }
        }
      ]
    }
  ]
}